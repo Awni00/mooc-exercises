{
 "cells": [
  {
   "cell_type": "code",
   "execution_count": 1,
   "id": "7198d393",
   "metadata": {},
   "outputs": [
    {
     "name": "stderr",
     "output_type": "stream",
     "text": [
      "DEBUG:commons:version: 6.1.7 *\n",
      "INFO:typing:version: 6.1.8\n",
      "DEBUG:aido_schemas:aido-protocols version 6.0.41 path /home/awni/.local/lib/python3.8/site-packages\n",
      "INFO:nodes:version 6.2.4 path /home/awni/.local/lib/python3.8/site-packages pyparsing 2.4.7\n",
      "DEBUG:dt_protocols:dt-protocols version 6.2.19 path /home/awni/.local/lib/python3.8/site-packages\n",
      "INFO:geometry:version: 2.0.5\n",
      "DEBUG:duckietown_world:duckietown-world version 6.2.24 path /home/awni/.local/lib/python3.8/site-packages\n"
     ]
    }
   ],
   "source": [
    "import itertools\n",
    "import random\n",
    "from typing import List\n",
    "\n",
    "from aido_schemas import Context, FriendlyPose\n",
    "from dt_protocols import (\n",
    "    Circle,\n",
    "    CollisionCheckQuery,\n",
    "    CollisionCheckResult,\n",
    "    MapDefinition,\n",
    "    PlacedPrimitive,\n",
    "    Rectangle,\n",
    ")"
   ]
  },
  {
   "cell_type": "code",
   "execution_count": 2,
   "id": "c82928ec",
   "metadata": {},
   "outputs": [],
   "source": [
    "__all__ = [\"CollisionChecker\"]\n",
    "\n",
    "\n",
    "class CollisionChecker:\n",
    "    params: MapDefinition\n",
    "\n",
    "    def init(self, context: Context):\n",
    "        context.info(\"init()\")\n",
    "\n",
    "    def on_received_set_params(self, context: Context, data: MapDefinition):\n",
    "        context.info(\"initialized\")\n",
    "        self.params = data\n",
    "\n",
    "    def on_received_query(self, context: Context, data: CollisionCheckQuery):\n",
    "        collided = check_collision(\n",
    "            Wcoll=self.params.environment, robot_body=self.params.body, robot_pose=data.pose\n",
    "        )\n",
    "        result = CollisionCheckResult(collided)\n",
    "        context.write(\"response\", result)"
   ]
  },
  {
   "cell_type": "code",
   "execution_count": 3,
   "id": "ffc42cae",
   "metadata": {},
   "outputs": [],
   "source": [
    "import shapely.geometry\n",
    "import shapely.affinity"
   ]
  },
  {
   "cell_type": "code",
   "execution_count": 4,
   "id": "89b75279",
   "metadata": {},
   "outputs": [],
   "source": [
    "def get_shapely_rect(pprim: PlacedPrimitive):\n",
    "    rect = pprim.primitive\n",
    "    \n",
    "    origin = (pprim.pose.x, pprim.pose.y)\n",
    "\n",
    "    shapely_rect = shapely.geometry.box(rect.xmin, rect.ymin, rect.xmax, rect.ymax)\n",
    "    shapely_rect = shapely.affinity.rotate(shapely_rect, pprim.pose.theta_deg, origin=origin)\n",
    "    \n",
    "    return shapely_rect"
   ]
  },
  {
   "cell_type": "code",
   "execution_count": 5,
   "id": "0a08c35f",
   "metadata": {},
   "outputs": [],
   "source": [
    "def get_shapely_circ(pprim: PlacedPrimitive):\n",
    "    r = pprim.primitive.radius\n",
    "    x = pprim.pose.x\n",
    "    y = pprim.pose.y\n",
    "    \n",
    "    shapely_circ = shapely.geometry.Point(x, y).buffer(r)\n",
    "    return shapely_circ"
   ]
  },
  {
   "cell_type": "code",
   "execution_count": 6,
   "id": "020121c7",
   "metadata": {},
   "outputs": [],
   "source": [
    "def rec_rec_collision(pprim1: PlacedPrimitive, pprim2: PlacedPrimitive) -> bool:\n",
    "\n",
    "    shapely_rect1 = get_shapely_rect(pprim1)\n",
    "    shapely_rect2 = get_shapely_rect(pprim2)\n",
    "    \n",
    "    aoi = shapely_rect1.intersection(shapely_rect2).area\n",
    "    print(aoi)\n",
    "    \n",
    "    return aoi > 0"
   ]
  },
  {
   "cell_type": "code",
   "execution_count": 7,
   "id": "eb6e6110",
   "metadata": {},
   "outputs": [],
   "source": [
    "def rec_circ_collision(pprim_rec: PlacedPrimitive, pprim_circ) -> bool:\n",
    "    shapely_rect = get_shapely_rect(pprim_rec)\n",
    "    shapely_circ = get_shapely_circ(pprim_circ)\n",
    "    \n",
    "    aoi = shapely_rect.intersection(shapely_circ).area\n",
    "    print(aoi)\n",
    "    \n",
    "    return aoi > 0"
   ]
  },
  {
   "cell_type": "code",
   "execution_count": 8,
   "id": "1a7c3e6e",
   "metadata": {},
   "outputs": [],
   "source": [
    "def pose_distance(pose1: FriendlyPose, pose2: FriendlyPose):\n",
    "    x1, y1, x2, y2 = pose1.x, pose1.y, pose2.x, pose2.y\n",
    "    return ((x1-x2)**2 + (y1-y2)**2)**(1/2)"
   ]
  },
  {
   "cell_type": "code",
   "execution_count": 9,
   "id": "ef024b05",
   "metadata": {},
   "outputs": [],
   "source": [
    "def circ_circ_collision(pprim_circ1, pprim_circ2):\n",
    "    pose1 = pprim_circ1.pose\n",
    "    pose2 = pprim_circ2.pose\n",
    "    d = pprim_circ1.primitive.radius + pprim_circ2.primitive.radius\n",
    "    \n",
    "    return pose_distance(pose1, pose2) < d"
   ]
  },
  {
   "cell_type": "code",
   "execution_count": 10,
   "id": "8cf2baf1",
   "metadata": {},
   "outputs": [],
   "source": [
    "def check_collision(\n",
    "    Wcoll: List[PlacedPrimitive], robot_body: List[PlacedPrimitive], robot_pose: FriendlyPose\n",
    ") -> bool:\n",
    "    # This is just some code to get you started, but you don't have to follow it exactly\n",
    "\n",
    "    # start by rototranslating the robot parts by the robot pose\n",
    "    rototranslated_robot: List[PlacedPrimitive] = []  #\n",
    "\n",
    "    collided = check_collision_list(rototranslated_robot, Wcoll)\n",
    "\n",
    "    # return a random choice\n",
    "    return random.uniform(0, 1) > 0.5\n",
    "\n",
    "\n",
    "def check_collision_list(A: List[PlacedPrimitive], B: List[PlacedPrimitive]) -> bool:\n",
    "    # This is just some code to get you started, but you don't have to follow it exactly\n",
    "\n",
    "    for a, b in itertools.product(A, B):\n",
    "        if check_collision_shape(a, b):\n",
    "            return True\n",
    "\n",
    "    return False\n",
    "\n",
    "\n",
    "def check_collision_shape(a: PlacedPrimitive, b: PlacedPrimitive) -> bool:    \n",
    "    \n",
    "    if isinstance(a.primitive, Circle) and isinstance(b.primitive, Circle):\n",
    "        return circ_circ_collision(a, b)\n",
    "    if isinstance(a.primitive, Circle) and isinstance(b.primitive, Rectangle):\n",
    "        return rec_circ_collision(b, a)\n",
    "    if isinstance(a.primitive, Rectangle) and isinstance(b.primitive, Circle):\n",
    "        return rec_circ_collision(a, b)\n",
    "    if isinstance(a.primitive, Rectangle) and isinstance(b.primitive, Rectangle):\n",
    "        return rec_rec_collision(a, b) \n",
    "    \n",
    "    print('None of the checks passed')\n",
    "    \n",
    "    return None"
   ]
  },
  {
   "cell_type": "code",
   "execution_count": 11,
   "id": "70ff0ec3",
   "metadata": {},
   "outputs": [],
   "source": [
    "pose_circ = FriendlyPose(0, 0, 0)\n",
    "circle = Circle(1)\n",
    "pp_circle = PlacedPrimitive(pose_circ, circle)\n",
    "\n",
    "pose_rect = FriendlyPose(0, 0, 0)\n",
    "rect = Rectangle(0, 0, 1, 2)\n",
    "pp_rect = PlacedPrimitive(pose_rect, rect)"
   ]
  },
  {
   "cell_type": "code",
   "execution_count": 12,
   "id": "7eae2c85",
   "metadata": {},
   "outputs": [
    {
     "data": {
      "text/plain": [
       "True"
      ]
     },
     "execution_count": 12,
     "metadata": {},
     "output_type": "execute_result"
    }
   ],
   "source": [
    "check_collision_shape(pp_circle, pp_circle)"
   ]
  },
  {
   "cell_type": "code",
   "execution_count": null,
   "id": "2dc62a79",
   "metadata": {},
   "outputs": [],
   "source": []
  }
 ],
 "metadata": {
  "kernelspec": {
   "display_name": "Python 3",
   "language": "python",
   "name": "python3"
  },
  "language_info": {
   "codemirror_mode": {
    "name": "ipython",
    "version": 3
   },
   "file_extension": ".py",
   "mimetype": "text/x-python",
   "name": "python",
   "nbconvert_exporter": "python",
   "pygments_lexer": "ipython3",
   "version": "3.8.5"
  }
 },
 "nbformat": 4,
 "nbformat_minor": 5
}
